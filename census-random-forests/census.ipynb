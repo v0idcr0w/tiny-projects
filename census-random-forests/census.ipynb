{
 "cells": [
  {
   "cell_type": "code",
   "execution_count": 106,
   "metadata": {},
   "outputs": [
    {
     "data": {
      "text/plain": [
       "income\n",
       " <=50K    75.919044\n",
       " >50K     24.080956\n",
       "Name: proportion, dtype: float64"
      ]
     },
     "execution_count": 106,
     "metadata": {},
     "output_type": "execute_result"
    }
   ],
   "source": [
    "import numpy as np\n",
    "import pandas as pd \n",
    "import matplotlib.pyplot as plt \n",
    "\n",
    "column_names = ['age', 'workclass', 'fnlwgt','education', 'education-num', \n",
    "'marital-status', 'occupation', 'relationship', 'race', 'sex',\n",
    "'capital-gain','capital-loss', 'hours-per-week','native-country', 'income']\n",
    "df = pd.read_csv(\"census_data.csv\", header=None, names=column_names)\n",
    "\n",
    "# Percentage of samples that have income greater than 50K and lower than 50K \n",
    "df.income.value_counts(normalize=True) * 100"
   ]
  },
  {
   "cell_type": "code",
   "execution_count": 107,
   "metadata": {},
   "outputs": [],
   "source": [
    "for column in column_names: \n",
    "  if df[column].dtype == 'O':\n",
    "    # Eliminate whitespace \n",
    "    df[column] = df[column].str.strip()"
   ]
  },
  {
   "cell_type": "code",
   "execution_count": 108,
   "metadata": {},
   "outputs": [],
   "source": [
    "# Features dataframe \n",
    "feature_cols = ['age',\n",
    "       'capital-gain', 'capital-loss', 'hours-per-week', 'sex','race']\n",
    "X = pd.get_dummies(df[feature_cols], drop_first=True)\n",
    "y = pd.get_dummies(df['income'], drop_first=True)\n",
    "\n",
    "from sklearn.model_selection import train_test_split \n",
    "X_train, X_test, y_train, y_test = train_test_split(X, y, test_size=0.2, random_state=1)\n"
   ]
  },
  {
   "cell_type": "markdown",
   "metadata": {},
   "source": [
    "### Building Random Forest Classifiers"
   ]
  },
  {
   "cell_type": "code",
   "execution_count": 89,
   "metadata": {},
   "outputs": [
    {
     "name": "stdout",
     "output_type": "stream",
     "text": [
      "0.8159066482419776\n"
     ]
    }
   ],
   "source": [
    "from sklearn.ensemble import RandomForestClassifier\n",
    "# Using default parameters \n",
    "rfc = RandomForestClassifier()\n",
    "rfc.fit(X_train, np.array(y_train).ravel())\n",
    "baseline_acc = rfc.score(X_test, y_test)\n",
    "print(baseline_acc)"
   ]
  },
  {
   "cell_type": "code",
   "execution_count": 109,
   "metadata": {},
   "outputs": [
    {
     "name": "stdout",
     "output_type": "stream",
     "text": [
      "[0.7752226658476659, 0.8005605036855037, 0.8096974815724816, 0.8174907862407862, 0.8194103194103194, 0.8200245700245701, 0.8214066339066339, 0.8227886977886978, 0.823902027027027, 0.8270116707616708, 0.8331157862407862, 0.8353808353808354, 0.8389127764127764, 0.8420608108108109, 0.8446713759213759, 0.8463989557739557, 0.8493934275184275, 0.8523878992628993, 0.855382371007371, 0.8565724815724816, 0.8574938574938575, 0.8590678746928747, 0.8597589066339066, 0.8603347665847666, 0.8604499385749386]\n",
      "[0.7881160755412252, 0.8109933978197451, 0.8203592814371258, 0.8291110087517273, 0.8301857822815907, 0.8303393213572854, 0.8303393213572854, 0.8311070167357593, 0.8311070167357593, 0.8323353293413174, 0.8329494856440964, 0.8340242591739597, 0.8320282511899278, 0.833256563795486, 0.831260555811454, 0.8324888684170121, 0.8300322432058959, 0.8281897742975587, 0.8257331490864425, 0.8243512974051896, 0.822815906648242, 0.8225088284968525, 0.822815906648242, 0.8218946721940734, 0.82081989866421]\n"
     ]
    }
   ],
   "source": [
    "# Tuning according to max_depth \n",
    "accuracy_train = []\n",
    "accuracy_test = []\n",
    "\n",
    "for i in range(1,26):\n",
    "  rfc = RandomForestClassifier(max_depth=i)\n",
    "  rfc.fit(X_train, np.array(y_train).ravel())\n",
    "  accuracy_train.append(rfc.score(X_train, y_train))\n",
    "  accuracy_test.append(rfc.score(X_test, y_test))\n",
    "\n",
    "print(accuracy_train)\n",
    "print(accuracy_test)\n"
   ]
  },
  {
   "cell_type": "code",
   "execution_count": 110,
   "metadata": {},
   "outputs": [
    {
     "name": "stdout",
     "output_type": "stream",
     "text": [
      "Max accuracy 0.83 at max_depth=12\n"
     ]
    }
   ],
   "source": [
    "# Max depth \n",
    "depths = list(range(1,26))\n",
    "accuracy_test = np.array(accuracy_test)\n",
    "accuracy_train = np.array(accuracy_train)\n",
    "max_idx = accuracy_test.argmax()\n",
    "print(f\"Max accuracy {accuracy_test[max_idx]:.2f} at max_depth={depths[max_idx]}\")"
   ]
  },
  {
   "cell_type": "code",
   "execution_count": 111,
   "metadata": {},
   "outputs": [
    {
     "data": {
      "image/png": "[encoded data removed]",
      "text/plain": [
       "<Figure size 640x480 with 1 Axes>"
      ]
     },
     "metadata": {},
     "output_type": "display_data"
    }
   ],
   "source": [
    "plt.plot(depths, accuracy_test, label='test')\n",
    "plt.plot(depths, accuracy_train, label='train')\n",
    "plt.plot(depths[max_idx], accuracy_test[max_idx], marker='*', markersize=10, color='r', label='best', linestyle='')\n",
    "plt.legend()\n",
    "plt.show()"
   ]
  },
  {
   "cell_type": "code",
   "execution_count": 112,
   "metadata": {},
   "outputs": [],
   "source": [
    "# Refitting with max_depth \n",
    "rfc = RandomForestClassifier(max_depth=depths[max_idx])\n",
    "rfc.fit(X_train, np.array(y_train).ravel())\n",
    "feature_importances = rfc.feature_importances_"
   ]
  },
  {
   "cell_type": "code",
   "execution_count": 113,
   "metadata": {},
   "outputs": [
    {
     "data": {
      "text/html": [
       "<div>\n",
       "<style scoped>\n",
       "    .dataframe tbody tr th:only-of-type {\n",
       "        vertical-align: middle;\n",
       "    }\n",
       "\n",
       "    .dataframe tbody tr th {\n",
       "        vertical-align: top;\n",
       "    }\n",
       "\n",
       "    .dataframe thead th {\n",
       "        text-align: right;\n",
       "    }\n",
       "</style>\n",
       "<table border=\"1\" class=\"dataframe\">\n",
       "  <thead>\n",
       "    <tr style=\"text-align: right;\">\n",
       "      <th></th>\n",
       "      <th>importance</th>\n",
       "    </tr>\n",
       "  </thead>\n",
       "  <tbody>\n",
       "    <tr>\n",
       "      <th>capital-gain</th>\n",
       "      <td>0.372192</td>\n",
       "    </tr>\n",
       "    <tr>\n",
       "      <th>age</th>\n",
       "      <td>0.239820</td>\n",
       "    </tr>\n",
       "    <tr>\n",
       "      <th>hours-per-week</th>\n",
       "      <td>0.144965</td>\n",
       "    </tr>\n",
       "    <tr>\n",
       "      <th>capital-loss</th>\n",
       "      <td>0.141026</td>\n",
       "    </tr>\n",
       "    <tr>\n",
       "      <th>sex_Male</th>\n",
       "      <td>0.081592</td>\n",
       "    </tr>\n",
       "  </tbody>\n",
       "</table>\n",
       "</div>"
      ],
      "text/plain": [
       "                importance\n",
       "capital-gain      0.372192\n",
       "age               0.239820\n",
       "hours-per-week    0.144965\n",
       "capital-loss      0.141026\n",
       "sex_Male          0.081592"
      ]
     },
     "execution_count": 113,
     "metadata": {},
     "output_type": "execute_result"
    }
   ],
   "source": [
    "feature_importances_df = pd.DataFrame(feature_importances, index=X_train.columns, columns=['importance']).sort_values(by='importance', ascending=False)\n",
    "# Top five features \n",
    "feature_importances_df[:5]"
   ]
  },
  {
   "cell_type": "markdown",
   "metadata": {},
   "source": [
    "### Additional features"
   ]
  },
  {
   "cell_type": "code",
   "execution_count": 119,
   "metadata": {},
   "outputs": [],
   "source": [
    "# Creating the education_bin column \n",
    "df['education_bin'] = pd.cut(df['education-num'], [0, 9, 13, 16], labels=['High school and less', 'College to Bachelors', 'Masters and more'])"
   ]
  },
  {
   "cell_type": "code",
   "execution_count": 122,
   "metadata": {},
   "outputs": [
    {
     "data": {
      "text/html": [
       "<div>\n",
       "<style scoped>\n",
       "    .dataframe tbody tr th:only-of-type {\n",
       "        vertical-align: middle;\n",
       "    }\n",
       "\n",
       "    .dataframe tbody tr th {\n",
       "        vertical-align: top;\n",
       "    }\n",
       "\n",
       "    .dataframe thead th {\n",
       "        text-align: right;\n",
       "    }\n",
       "</style>\n",
       "<table border=\"1\" class=\"dataframe\">\n",
       "  <thead>\n",
       "    <tr style=\"text-align: right;\">\n",
       "      <th></th>\n",
       "      <th>age</th>\n",
       "      <th>capital-gain</th>\n",
       "      <th>capital-loss</th>\n",
       "      <th>hours-per-week</th>\n",
       "      <th>sex_Male</th>\n",
       "      <th>race_Asian-Pac-Islander</th>\n",
       "      <th>race_Black</th>\n",
       "      <th>race_Other</th>\n",
       "      <th>race_White</th>\n",
       "      <th>education_bin_College to Bachelors</th>\n",
       "      <th>education_bin_Masters and more</th>\n",
       "    </tr>\n",
       "  </thead>\n",
       "  <tbody>\n",
       "    <tr>\n",
       "      <th>0</th>\n",
       "      <td>39</td>\n",
       "      <td>2174</td>\n",
       "      <td>0</td>\n",
       "      <td>40</td>\n",
       "      <td>True</td>\n",
       "      <td>False</td>\n",
       "      <td>False</td>\n",
       "      <td>False</td>\n",
       "      <td>True</td>\n",
       "      <td>True</td>\n",
       "      <td>False</td>\n",
       "    </tr>\n",
       "    <tr>\n",
       "      <th>1</th>\n",
       "      <td>50</td>\n",
       "      <td>0</td>\n",
       "      <td>0</td>\n",
       "      <td>13</td>\n",
       "      <td>True</td>\n",
       "      <td>False</td>\n",
       "      <td>False</td>\n",
       "      <td>False</td>\n",
       "      <td>True</td>\n",
       "      <td>True</td>\n",
       "      <td>False</td>\n",
       "    </tr>\n",
       "    <tr>\n",
       "      <th>2</th>\n",
       "      <td>38</td>\n",
       "      <td>0</td>\n",
       "      <td>0</td>\n",
       "      <td>40</td>\n",
       "      <td>True</td>\n",
       "      <td>False</td>\n",
       "      <td>False</td>\n",
       "      <td>False</td>\n",
       "      <td>True</td>\n",
       "      <td>False</td>\n",
       "      <td>False</td>\n",
       "    </tr>\n",
       "    <tr>\n",
       "      <th>3</th>\n",
       "      <td>53</td>\n",
       "      <td>0</td>\n",
       "      <td>0</td>\n",
       "      <td>40</td>\n",
       "      <td>True</td>\n",
       "      <td>False</td>\n",
       "      <td>True</td>\n",
       "      <td>False</td>\n",
       "      <td>False</td>\n",
       "      <td>False</td>\n",
       "      <td>False</td>\n",
       "    </tr>\n",
       "    <tr>\n",
       "      <th>4</th>\n",
       "      <td>28</td>\n",
       "      <td>0</td>\n",
       "      <td>0</td>\n",
       "      <td>40</td>\n",
       "      <td>False</td>\n",
       "      <td>False</td>\n",
       "      <td>True</td>\n",
       "      <td>False</td>\n",
       "      <td>False</td>\n",
       "      <td>True</td>\n",
       "      <td>False</td>\n",
       "    </tr>\n",
       "  </tbody>\n",
       "</table>\n",
       "</div>"
      ],
      "text/plain": [
       "   age  capital-gain  capital-loss  hours-per-week  sex_Male  \\\n",
       "0   39          2174             0              40      True   \n",
       "1   50             0             0              13      True   \n",
       "2   38             0             0              40      True   \n",
       "3   53             0             0              40      True   \n",
       "4   28             0             0              40     False   \n",
       "\n",
       "   race_Asian-Pac-Islander  race_Black  race_Other  race_White  \\\n",
       "0                    False       False       False        True   \n",
       "1                    False       False       False        True   \n",
       "2                    False       False       False        True   \n",
       "3                    False        True       False       False   \n",
       "4                    False        True       False       False   \n",
       "\n",
       "   education_bin_College to Bachelors  education_bin_Masters and more  \n",
       "0                                True                           False  \n",
       "1                                True                           False  \n",
       "2                               False                           False  \n",
       "3                               False                           False  \n",
       "4                                True                           False  "
      ]
     },
     "execution_count": 122,
     "metadata": {},
     "output_type": "execute_result"
    }
   ],
   "source": [
    "feature_cols = feature_cols + ['education_bin']\n",
    "X = pd.get_dummies(df[feature_cols], drop_first=True)\n",
    "X.head()"
   ]
  },
  {
   "cell_type": "code",
   "execution_count": 123,
   "metadata": {},
   "outputs": [],
   "source": [
    "# Split again\n",
    "X_train, X_test, y_train, y_test = X_train, X_test, y_train, y_test = train_test_split(X, y, random_state=1, test_size=0.2) "
   ]
  },
  {
   "cell_type": "code",
   "execution_count": 124,
   "metadata": {},
   "outputs": [],
   "source": [
    "accuracy_train2 = []\n",
    "accuracy_test2 = []\n",
    "depths = range(1, 26)\n",
    "for depth in depths: \n",
    "  rfc = RandomForestClassifier(max_depth=depth)\n",
    "  rfc.fit(X_train, np.array(y_train).ravel())\n",
    "  accuracy_train2.append(rfc.score(X_train, y_train))\n",
    "  accuracy_test2.append(rfc.score(X_test, y_test))\n"
   ]
  },
  {
   "cell_type": "code",
   "execution_count": 133,
   "metadata": {},
   "outputs": [
    {
     "name": "stdout",
     "output_type": "stream",
     "text": [
      "Max accuracy of 0.85 at a max_depth=12\n"
     ]
    }
   ],
   "source": [
    "# Max accuracy on test\n",
    "accuracy_test2 = np.array(accuracy_test2)\n",
    "accuracy_train2 = np.array(accuracy_train2)\n",
    "max_idx2 = accuracy_test2.argmax()\n",
    "print(f\"Max accuracy of {accuracy_test2[max_idx2]:.2f} at a max_depth={depths[max_idx2]}\") "
   ]
  },
  {
   "cell_type": "code",
   "execution_count": 126,
   "metadata": {},
   "outputs": [
    {
     "data": {
      "image/png": "[encoded data removed]",
      "text/plain": [
       "<Figure size 640x480 with 1 Axes>"
      ]
     },
     "metadata": {},
     "output_type": "display_data"
    }
   ],
   "source": [
    "# Plot\n",
    "plt.plot(depths, accuracy_test2, label='test')\n",
    "plt.plot(depths, accuracy_train2, label='train')\n",
    "plt.plot(depths[max_idx2], accuracy_test2[max_idx2], marker='*', markersize=10, color='r', label='best', linestyle='')\n",
    "plt.legend()\n",
    "plt.show()"
   ]
  },
  {
   "cell_type": "code",
   "execution_count": 134,
   "metadata": {},
   "outputs": [],
   "source": [
    "rf = RandomForestClassifier(max_depth=depths[max_idx2])\n",
    "rf.fit(X_train, np.array(y_train).ravel())\n",
    "feature_importances = rf.feature_importances_"
   ]
  },
  {
   "cell_type": "code",
   "execution_count": 137,
   "metadata": {},
   "outputs": [
    {
     "data": {
      "text/html": [
       "<div>\n",
       "<style scoped>\n",
       "    .dataframe tbody tr th:only-of-type {\n",
       "        vertical-align: middle;\n",
       "    }\n",
       "\n",
       "    .dataframe tbody tr th {\n",
       "        vertical-align: top;\n",
       "    }\n",
       "\n",
       "    .dataframe thead th {\n",
       "        text-align: right;\n",
       "    }\n",
       "</style>\n",
       "<table border=\"1\" class=\"dataframe\">\n",
       "  <thead>\n",
       "    <tr style=\"text-align: right;\">\n",
       "      <th></th>\n",
       "      <th>importance</th>\n",
       "    </tr>\n",
       "  </thead>\n",
       "  <tbody>\n",
       "    <tr>\n",
       "      <th>capital-gain</th>\n",
       "      <td>0.313246</td>\n",
       "    </tr>\n",
       "    <tr>\n",
       "      <th>age</th>\n",
       "      <td>0.211534</td>\n",
       "    </tr>\n",
       "    <tr>\n",
       "      <th>hours-per-week</th>\n",
       "      <td>0.120069</td>\n",
       "    </tr>\n",
       "    <tr>\n",
       "      <th>education_bin_Masters and more</th>\n",
       "      <td>0.110178</td>\n",
       "    </tr>\n",
       "    <tr>\n",
       "      <th>capital-loss</th>\n",
       "      <td>0.102929</td>\n",
       "    </tr>\n",
       "  </tbody>\n",
       "</table>\n",
       "</div>"
      ],
      "text/plain": [
       "                                importance\n",
       "capital-gain                      0.313246\n",
       "age                               0.211534\n",
       "hours-per-week                    0.120069\n",
       "education_bin_Masters and more    0.110178\n",
       "capital-loss                      0.102929"
      ]
     },
     "execution_count": 137,
     "metadata": {},
     "output_type": "execute_result"
    }
   ],
   "source": [
    "feature_importances_df2 = pd.DataFrame(feature_importances, index=X.columns, columns=['importance']).sort_values(by='importance', ascending=False)\n",
    "feature_importances_df2[:5]"
   ]
  }
 ],
 "metadata": {
  "kernelspec": {
   "display_name": "Python 3",
   "language": "python",
   "name": "python3"
  },
  "language_info": {
   "codemirror_mode": {
    "name": "ipython",
    "version": 3
   },
   "file_extension": ".py",
   "mimetype": "text/x-python",
   "name": "python",
   "nbconvert_exporter": "python",
   "pygments_lexer": "ipython3",
   "version": "3.11.4"
  }
 },
 "nbformat": 4,
 "nbformat_minor": 2
}
